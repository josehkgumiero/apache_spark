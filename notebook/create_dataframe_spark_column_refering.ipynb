{
 "cells": [
  {
   "cell_type": "code",
   "execution_count": 1,
   "id": "2ad82314",
   "metadata": {},
   "outputs": [],
   "source": [
    "import pyspark"
   ]
  },
  {
   "cell_type": "code",
   "execution_count": 2,
   "id": "62deed13",
   "metadata": {},
   "outputs": [],
   "source": [
    "from pyspark.sql import SparkSession"
   ]
  },
  {
   "cell_type": "code",
   "execution_count": 3,
   "id": "f1b9d5a3",
   "metadata": {},
   "outputs": [
    {
     "name": "stdout",
     "output_type": "stream",
     "text": [
      "23/02/21 17:48:13 WARN Utils: Your hostname, JosePC resolves to a loopback address: 127.0.1.1; using 192.168.15.30 instead (on interface wlo1)\n",
      "23/02/21 17:48:13 WARN Utils: Set SPARK_LOCAL_IP if you need to bind to another address\n"
     ]
    },
    {
     "name": "stderr",
     "output_type": "stream",
     "text": [
      "Setting default log level to \"WARN\".\n",
      "To adjust logging level use sc.setLogLevel(newLevel). For SparkR, use setLogLevel(newLevel).\n"
     ]
    },
    {
     "name": "stdout",
     "output_type": "stream",
     "text": [
      "23/02/21 17:48:14 WARN NativeCodeLoader: Unable to load native-hadoop library for your platform... using builtin-java classes where applicable\n"
     ]
    }
   ],
   "source": [
    "spark = SparkSession.builder \\\n",
    "                    .master(\"local[1]\") \\\n",
    "                    .appName(\"\") \\\n",
    "                    .getOrCreate()"
   ]
  },
  {
   "cell_type": "code",
   "execution_count": 4,
   "id": "29e769f9",
   "metadata": {},
   "outputs": [],
   "source": [
    "import datetime"
   ]
  },
  {
   "cell_type": "code",
   "execution_count": 5,
   "id": "a4c28cdd",
   "metadata": {},
   "outputs": [],
   "source": [
    "from pyspark.sql import Row"
   ]
  },
  {
   "cell_type": "code",
   "execution_count": 6,
   "id": "d269ec8c",
   "metadata": {},
   "outputs": [],
   "source": [
    "users = [\n",
    "    {\n",
    "        \"id\": 1,\n",
    "        \"first_name\": \"Corrie\",\n",
    "        \"last_name\": \"Van den Oord\",\n",
    "        \"email\": \"cvandenoord@etsy.com\",\n",
    "        \"phone_numbers\": Row(mobile=\"+1 234 567 8901\", home=\"+1 234 567 8911\"),\n",
    "        \"courses\": [1, 2],\n",
    "        \"is_costumer\": True,\n",
    "        \"amount_paid\": 1000.55,\n",
    "        \"customer_from\": datetime.date(2021, 1, 15),\n",
    "        \"last_updated_ts\": datetime.datetime(2021, 2, 10, 1, 15, 0)\n",
    "    },\n",
    "    {\n",
    "        \"id\": 2,\n",
    "        \"first_name\": \"Nikolaus\",\n",
    "        \"last_name\": \"Brewitt\",\n",
    "        \"email\": \"nbrewittl@dailyail.co.uk\",\n",
    "        \"phone_numbers\": Row(mobile=\"+1 234 567 8923\", home=\"+1 234 567 8934\"),\n",
    "        \"courses\": [3],\n",
    "        \"is_costumer\": True,\n",
    "        \"amount_paid\": 900.00,\n",
    "        \"customer_from\": datetime.date(2021, 2, 14),\n",
    "        \"last_updated_ts\": datetime.datetime(2021, 2, 18, 3, 33, 0)\n",
    "    },\n",
    "    {\n",
    "        \"id\": 3,\n",
    "        \"first_name\": \"Orelie\",\n",
    "        \"last_name\": \"Penney\", \n",
    "        \"email\": \"openney2@vistaprint.com\",\n",
    "        \"phone_numbers\": Row(mobile=\"+1 714 512 9752\", home=\"+1 714 512 6601\"),\n",
    "        \"courses\": [2, 3],\n",
    "        \"is_costumer\": True,\n",
    "        \"amount_paid\": 850.55,\n",
    "        \"customer_from\": datetime.date(2021, 1, 21),\n",
    "        \"last_updated_ts\": datetime.datetime(2021, 3, 15, 15, 16, 55)\n",
    "    },\n",
    "    {\n",
    "        \"id\": 4,\n",
    "        \"first_name\": \"Ashby\",\n",
    "        \"last_name\": \"Maddocks\",\n",
    "        \"email\": \"amaddocks3@home.pl\",\n",
    "        \"phone_numbers\": Row(mobile=None, home=None),\n",
    "        \"courses\": [],\n",
    "        \"is_costumer\": False,\n",
    "        \"amount_paid\": None,\n",
    "        \"customer_from\": None,\n",
    "        \"last_updated_ts\": datetime.datetime(2021, 4, 10, 17, 45, 30)\n",
    "    },\n",
    "    {\n",
    "        \"id\": 5,\n",
    "        \"first_name\": \"Kurt\",\n",
    "        \"last_name\": \"Rome\",\n",
    "        \"email\": \"krome4@shutterfly.com\",\n",
    "        \"phone_numbers\": Row(mobile= \"+1 817 934 7142\", home=None),\n",
    "        \"courses\": [],\n",
    "        \"is_costumer\": False,\n",
    "        \"amount_paid\": None,\n",
    "        \"customer_from\": None,\n",
    "        \"last_updated_ts\": datetime.datetime(2021, 4, 2, 0, 55, 18)\n",
    "    }\n",
    "]"
   ]
  },
  {
   "cell_type": "code",
   "execution_count": 7,
   "id": "78520a71",
   "metadata": {},
   "outputs": [],
   "source": [
    "import pandas as pd"
   ]
  },
  {
   "cell_type": "code",
   "execution_count": 8,
   "id": "1a8764d1",
   "metadata": {},
   "outputs": [],
   "source": [
    "spark.conf.set('spark.sql.execution.arrowpyspark.enabled', False)"
   ]
  },
  {
   "cell_type": "code",
   "execution_count": 9,
   "id": "d032c051",
   "metadata": {},
   "outputs": [],
   "source": [
    "users_df = spark.createDataFrame(pd.DataFrame(users))"
   ]
  },
  {
   "cell_type": "code",
   "execution_count": 10,
   "id": "da2e4098",
   "metadata": {},
   "outputs": [
    {
     "name": "stderr",
     "output_type": "stream",
     "text": [
      "\r",
      "[Stage 0:>                                                          (0 + 1) / 1]\r"
     ]
    },
    {
     "name": "stdout",
     "output_type": "stream",
     "text": [
      "+---+----------+------------+--------------------+--------------------+-------+-----------+-----------+-------------+-------------------+\n",
      "| id|first_name|   last_name|               email|       phone_numbers|courses|is_costumer|amount_paid|customer_from|    last_updated_ts|\n",
      "+---+----------+------------+--------------------+--------------------+-------+-----------+-----------+-------------+-------------------+\n",
      "|  1|    Corrie|Van den Oord|cvandenoord@etsy.com|{+1 234 567 8901,...| [1, 2]|       true|    1000.55|   2021-01-15|2021-02-10 01:15:00|\n",
      "|  2|  Nikolaus|     Brewitt|nbrewittl@dailyai...|{+1 234 567 8923,...|    [3]|       true|      900.0|   2021-02-14|2021-02-18 03:33:00|\n",
      "|  3|    Orelie|      Penney|openney2@vistapri...|{+1 714 512 9752,...| [2, 3]|       true|     850.55|   2021-01-21|2021-03-15 15:16:55|\n",
      "|  4|     Ashby|    Maddocks|  amaddocks3@home.pl|        {null, null}|     []|      false|        NaN|         null|2021-04-10 17:45:30|\n",
      "|  5|      Kurt|        Rome|krome4@shutterfly...|{+1 817 934 7142,...|     []|      false|        NaN|         null|2021-04-02 00:55:18|\n",
      "+---+----------+------------+--------------------+--------------------+-------+-----------+-----------+-------------+-------------------+\n",
      "\n"
     ]
    },
    {
     "name": "stderr",
     "output_type": "stream",
     "text": [
      "\r",
      "                                                                                \r"
     ]
    }
   ],
   "source": [
    "users_df.show()"
   ]
  },
  {
   "cell_type": "code",
   "execution_count": 13,
   "id": "229a5c8d",
   "metadata": {},
   "outputs": [],
   "source": [
    "from pyspark.sql.functions import col"
   ]
  },
  {
   "cell_type": "code",
   "execution_count": 14,
   "id": "97fe51b0",
   "metadata": {},
   "outputs": [
    {
     "data": {
      "text/plain": [
       "Column<'id'>"
      ]
     },
     "execution_count": 14,
     "metadata": {},
     "output_type": "execute_result"
    }
   ],
   "source": [
    "col('id')"
   ]
  },
  {
   "cell_type": "code",
   "execution_count": 12,
   "id": "9cf53287",
   "metadata": {},
   "outputs": [
    {
     "data": {
      "text/plain": [
       "Column<'id'>"
      ]
     },
     "execution_count": 12,
     "metadata": {},
     "output_type": "execute_result"
    }
   ],
   "source": [
    "users_df['id']"
   ]
  },
  {
   "cell_type": "code",
   "execution_count": 15,
   "id": "37875804",
   "metadata": {},
   "outputs": [],
   "source": [
    "from pyspark.sql.functions import col"
   ]
  },
  {
   "cell_type": "code",
   "execution_count": 16,
   "id": "821225d9",
   "metadata": {},
   "outputs": [
    {
     "name": "stdout",
     "output_type": "stream",
     "text": [
      "+---+----------+------------+\n",
      "| id|first_name|   last_name|\n",
      "+---+----------+------------+\n",
      "|  1|    Corrie|Van den Oord|\n",
      "|  2|  Nikolaus|     Brewitt|\n",
      "|  3|    Orelie|      Penney|\n",
      "|  4|     Ashby|    Maddocks|\n",
      "|  5|      Kurt|        Rome|\n",
      "+---+----------+------------+\n",
      "\n"
     ]
    }
   ],
   "source": [
    "users_df.select('id', col('first_name'), 'last_name').show()"
   ]
  },
  {
   "cell_type": "code",
   "execution_count": 17,
   "id": "deab690c",
   "metadata": {},
   "outputs": [
    {
     "name": "stdout",
     "output_type": "stream",
     "text": [
      "+---+----------+------------+\n",
      "| id|first_name|   last_name|\n",
      "+---+----------+------------+\n",
      "|  1|    Corrie|Van den Oord|\n",
      "|  2|  Nikolaus|     Brewitt|\n",
      "|  3|    Orelie|      Penney|\n",
      "|  4|     Ashby|    Maddocks|\n",
      "|  5|      Kurt|        Rome|\n",
      "+---+----------+------------+\n",
      "\n"
     ]
    }
   ],
   "source": [
    "users_df.select(users_df['id'], col('first_name'), 'last_name').show()"
   ]
  },
  {
   "cell_type": "code",
   "execution_count": 18,
   "id": "9bcdce70",
   "metadata": {},
   "outputs": [
    {
     "name": "stdout",
     "output_type": "stream",
     "text": [
      "+---+----------+------------+\n",
      "| id|first_name|   last_name|\n",
      "+---+----------+------------+\n",
      "|  1|    Corrie|Van den Oord|\n",
      "|  2|  Nikolaus|     Brewitt|\n",
      "|  3|    Orelie|      Penney|\n",
      "|  4|     Ashby|    Maddocks|\n",
      "|  5|      Kurt|        Rome|\n",
      "+---+----------+------------+\n",
      "\n"
     ]
    }
   ],
   "source": [
    "users_df.alias('u').select('u.id', col('first_name'), 'last_name').show()"
   ]
  },
  {
   "cell_type": "code",
   "execution_count": 19,
   "id": "a3034682",
   "metadata": {},
   "outputs": [],
   "source": [
    "from pyspark.sql.functions import concat, lit, col"
   ]
  },
  {
   "cell_type": "code",
   "execution_count": 20,
   "id": "bce4a463",
   "metadata": {},
   "outputs": [
    {
     "name": "stdout",
     "output_type": "stream",
     "text": [
      "+---+----------+------------+--------------------+\n",
      "| id|first_name|   last_name|           full_name|\n",
      "+---+----------+------------+--------------------+\n",
      "|  1|    Corrie|Van den Oord|Corrie, Van den Oord|\n",
      "|  2|  Nikolaus|     Brewitt|   Nikolaus, Brewitt|\n",
      "|  3|    Orelie|      Penney|      Orelie, Penney|\n",
      "|  4|     Ashby|    Maddocks|     Ashby, Maddocks|\n",
      "|  5|      Kurt|        Rome|          Kurt, Rome|\n",
      "+---+----------+------------+--------------------+\n",
      "\n"
     ]
    }
   ],
   "source": [
    "users_df.\\\n",
    "    select(\n",
    "        'id',\n",
    "        'first_name',\n",
    "        'last_name',\n",
    "        concat(users_df['first_name'], lit(', '), col('last_name')).alias('full_name')\n",
    ").show()"
   ]
  },
  {
   "cell_type": "code",
   "execution_count": 22,
   "id": "97213905",
   "metadata": {},
   "outputs": [],
   "source": [
    "users_df.createOrReplaceTempView('users')"
   ]
  },
  {
   "cell_type": "code",
   "execution_count": 24,
   "id": "d69da040",
   "metadata": {},
   "outputs": [
    {
     "name": "stdout",
     "output_type": "stream",
     "text": [
      "+---+----------+------------+--------------------+\n",
      "| id|first_name|   last_name|           full_name|\n",
      "+---+----------+------------+--------------------+\n",
      "|  1|    Corrie|Van den Oord|Corrie, Van den Oord|\n",
      "|  2|  Nikolaus|     Brewitt|   Nikolaus, Brewitt|\n",
      "|  3|    Orelie|      Penney|      Orelie, Penney|\n",
      "|  4|     Ashby|    Maddocks|     Ashby, Maddocks|\n",
      "|  5|      Kurt|        Rome|          Kurt, Rome|\n",
      "+---+----------+------------+--------------------+\n",
      "\n"
     ]
    }
   ],
   "source": [
    "spark.sql(\n",
    "\"\"\"\n",
    "    SELECT\n",
    "        id,\n",
    "        first_name,\n",
    "        last_name,\n",
    "        concat(u.first_name, ', ', u.last_name) AS full_name\n",
    "    FROM users AS u\n",
    "\"\"\"\n",
    ").show()"
   ]
  },
  {
   "cell_type": "code",
   "execution_count": 25,
   "id": "b3c334e9",
   "metadata": {},
   "outputs": [],
   "source": [
    "user_id = col('id')"
   ]
  },
  {
   "cell_type": "code",
   "execution_count": 26,
   "id": "9084d45b",
   "metadata": {},
   "outputs": [
    {
     "data": {
      "text/plain": [
       "Column<'id'>"
      ]
     },
     "execution_count": 26,
     "metadata": {},
     "output_type": "execute_result"
    }
   ],
   "source": [
    "user_id"
   ]
  },
  {
   "cell_type": "code",
   "execution_count": 27,
   "id": "58c15c00",
   "metadata": {},
   "outputs": [
    {
     "name": "stdout",
     "output_type": "stream",
     "text": [
      "+---+\n",
      "| id|\n",
      "+---+\n",
      "|  1|\n",
      "|  2|\n",
      "|  3|\n",
      "|  4|\n",
      "|  5|\n",
      "+---+\n",
      "\n"
     ]
    }
   ],
   "source": [
    "users_df.select(user_id).show()"
   ]
  },
  {
   "cell_type": "code",
   "execution_count": 28,
   "id": "18230264",
   "metadata": {},
   "outputs": [],
   "source": [
    "cols = ['id', 'first_name', 'last_name']"
   ]
  },
  {
   "cell_type": "code",
   "execution_count": 29,
   "id": "e526663c",
   "metadata": {},
   "outputs": [
    {
     "name": "stdout",
     "output_type": "stream",
     "text": [
      "+---+----------+------------+\n",
      "| id|first_name|   last_name|\n",
      "+---+----------+------------+\n",
      "|  1|    Corrie|Van den Oord|\n",
      "|  2|  Nikolaus|     Brewitt|\n",
      "|  3|    Orelie|      Penney|\n",
      "|  4|     Ashby|    Maddocks|\n",
      "|  5|      Kurt|        Rome|\n",
      "+---+----------+------------+\n",
      "\n"
     ]
    }
   ],
   "source": [
    "users_df.select(*cols).show()"
   ]
  },
  {
   "cell_type": "code",
   "execution_count": 30,
   "id": "2e327b71",
   "metadata": {},
   "outputs": [
    {
     "data": {
      "text/plain": [
       "[('id', 'bigint'), ('customer_from', 'date')]"
      ]
     },
     "execution_count": 30,
     "metadata": {},
     "output_type": "execute_result"
    }
   ],
   "source": [
    "users_df.select('id', 'customer_from').dtypes"
   ]
  },
  {
   "cell_type": "code",
   "execution_count": 31,
   "id": "f6983139",
   "metadata": {},
   "outputs": [],
   "source": [
    "from pyspark.sql.functions import date_format"
   ]
  },
  {
   "cell_type": "code",
   "execution_count": 32,
   "id": "6937aca4",
   "metadata": {},
   "outputs": [
    {
     "name": "stdout",
     "output_type": "stream",
     "text": [
      "+---+-----------------------------------+\n",
      "| id|date_format(customer_from, yyyMMdd)|\n",
      "+---+-----------------------------------+\n",
      "|  1|                           20210115|\n",
      "|  2|                           20210214|\n",
      "|  3|                           20210121|\n",
      "|  4|                               null|\n",
      "|  5|                               null|\n",
      "+---+-----------------------------------+\n",
      "\n"
     ]
    }
   ],
   "source": [
    "users_df \\\n",
    "    .select(\n",
    "        col('id'),\n",
    "        date_format('customer_from', 'yyyMMdd')\n",
    ") \\\n",
    ".show()"
   ]
  },
  {
   "cell_type": "code",
   "execution_count": 33,
   "id": "015649c5",
   "metadata": {},
   "outputs": [
    {
     "data": {
      "text/plain": [
       "<bound method DataFrame.printSchema of DataFrame[id: bigint, date_format(customer_from, yyyMMdd): string]>"
      ]
     },
     "execution_count": 33,
     "metadata": {},
     "output_type": "execute_result"
    }
   ],
   "source": [
    "users_df \\\n",
    "    .select(\n",
    "        col('id'),\n",
    "        date_format('customer_from', 'yyyMMdd')\n",
    ") \\\n",
    ".printSchema"
   ]
  },
  {
   "cell_type": "code",
   "execution_count": 37,
   "id": "c7cf7362",
   "metadata": {},
   "outputs": [
    {
     "name": "stdout",
     "output_type": "stream",
     "text": [
      "+---+-------------+\n",
      "| id|customer_from|\n",
      "+---+-------------+\n",
      "|  1|     20210115|\n",
      "|  2|     20210214|\n",
      "|  3|     20210121|\n",
      "|  4|         null|\n",
      "|  5|         null|\n",
      "+---+-------------+\n",
      "\n"
     ]
    }
   ],
   "source": [
    "users_df \\\n",
    "    .select(\n",
    "        col('id'),\n",
    "        date_format('customer_from', 'yyyMMdd').alias('customer_from')\n",
    ") \\\n",
    ".show()"
   ]
  },
  {
   "cell_type": "code",
   "execution_count": 38,
   "id": "c7455303",
   "metadata": {},
   "outputs": [
    {
     "name": "stdout",
     "output_type": "stream",
     "text": [
      "+---+-------------+\n",
      "| id|customer_from|\n",
      "+---+-------------+\n",
      "|  1|     20210115|\n",
      "|  2|     20210214|\n",
      "|  3|     20210121|\n",
      "|  4|         null|\n",
      "|  5|         null|\n",
      "+---+-------------+\n",
      "\n"
     ]
    }
   ],
   "source": [
    "users_df \\\n",
    "    .select(\n",
    "        col('id'),\n",
    "        date_format('customer_from', 'yyyMMdd').cast('int').alias('customer_from')\n",
    ") \\\n",
    ".show()"
   ]
  },
  {
   "cell_type": "code",
   "execution_count": 40,
   "id": "49e11da3",
   "metadata": {},
   "outputs": [
    {
     "name": "stdout",
     "output_type": "stream",
     "text": [
      "root\n",
      " |-- id: long (nullable = true)\n",
      " |-- customer_from: integer (nullable = true)\n",
      "\n"
     ]
    }
   ],
   "source": [
    "users_df \\\n",
    "    .select(\n",
    "        col('id'),\n",
    "        date_format('customer_from', 'yyyMMdd').cast('int').alias('customer_from')\n",
    ") \\\n",
    ".printSchema()"
   ]
  },
  {
   "cell_type": "code",
   "execution_count": 41,
   "id": "fd8c9aab",
   "metadata": {},
   "outputs": [],
   "source": [
    "cols = [col('id'), date_format('customer_from', 'yyyyMMdd').cast('int').alias('customer_from')]"
   ]
  },
  {
   "cell_type": "code",
   "execution_count": 42,
   "id": "7768a54e",
   "metadata": {},
   "outputs": [
    {
     "name": "stdout",
     "output_type": "stream",
     "text": [
      "+---+-------------+\n",
      "| id|customer_from|\n",
      "+---+-------------+\n",
      "|  1|     20210115|\n",
      "|  2|     20210214|\n",
      "|  3|     20210121|\n",
      "|  4|         null|\n",
      "|  5|         null|\n",
      "+---+-------------+\n",
      "\n"
     ]
    }
   ],
   "source": [
    "users_df.select(*cols).show()"
   ]
  },
  {
   "cell_type": "code",
   "execution_count": null,
   "id": "6a155cf6",
   "metadata": {},
   "outputs": [],
   "source": []
  }
 ],
 "metadata": {
  "kernelspec": {
   "display_name": "Python 3 (ipykernel)",
   "language": "python",
   "name": "python3"
  },
  "language_info": {
   "codemirror_mode": {
    "name": "ipython",
    "version": 3
   },
   "file_extension": ".py",
   "mimetype": "text/x-python",
   "name": "python",
   "nbconvert_exporter": "python",
   "pygments_lexer": "ipython3",
   "version": "3.9.13"
  }
 },
 "nbformat": 4,
 "nbformat_minor": 5
}
