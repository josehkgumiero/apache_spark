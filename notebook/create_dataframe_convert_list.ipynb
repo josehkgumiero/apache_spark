{
 "cells": [
  {
   "cell_type": "code",
   "execution_count": 7,
   "id": "2ad82314",
   "metadata": {},
   "outputs": [],
   "source": [
    "import pyspark"
   ]
  },
  {
   "cell_type": "code",
   "execution_count": 8,
   "id": "62deed13",
   "metadata": {},
   "outputs": [],
   "source": [
    "from pyspark.sql import SparkSession"
   ]
  },
  {
   "cell_type": "code",
   "execution_count": 9,
   "id": "3e4154b6",
   "metadata": {},
   "outputs": [
    {
     "name": "stdout",
     "output_type": "stream",
     "text": [
      "23/02/21 09:24:55 WARN Utils: Your hostname, JosePC resolves to a loopback address: 127.0.1.1; using 192.168.15.30 instead (on interface wlo1)\n",
      "23/02/21 09:24:55 WARN Utils: Set SPARK_LOCAL_IP if you need to bind to another address\n"
     ]
    },
    {
     "name": "stderr",
     "output_type": "stream",
     "text": [
      "Setting default log level to \"WARN\".\n",
      "To adjust logging level use sc.setLogLevel(newLevel). For SparkR, use setLogLevel(newLevel).\n"
     ]
    },
    {
     "name": "stdout",
     "output_type": "stream",
     "text": [
      "23/02/21 09:24:56 WARN NativeCodeLoader: Unable to load native-hadoop library for your platform... using builtin-java classes where applicable\n",
      "23/02/21 09:24:58 WARN Utils: Service 'SparkUI' could not bind on port 4040. Attempting port 4041.\n",
      "23/02/21 09:24:58 WARN Utils: Service 'SparkUI' could not bind on port 4041. Attempting port 4042.\n",
      "23/02/21 09:24:58 WARN Utils: Service 'SparkUI' could not bind on port 4042. Attempting port 4043.\n"
     ]
    }
   ],
   "source": [
    "spark = SparkSession.builder \\\n",
    "                    .master(\"local[1]\") \\\n",
    "                    .appName(\"\") \\\n",
    "                    .getOrCreate()"
   ]
  },
  {
   "cell_type": "code",
   "execution_count": 15,
   "id": "b318bd5e",
   "metadata": {},
   "outputs": [],
   "source": [
    "from pyspark.sql import Row"
   ]
  },
  {
   "cell_type": "code",
   "execution_count": 26,
   "id": "d574c77f",
   "metadata": {},
   "outputs": [],
   "source": [
    "users_tuple = [(1, 'Scott'), (2, 'Donald'), (3, 'Mickey'), (4, 'Elvis')]"
   ]
  },
  {
   "cell_type": "code",
   "execution_count": 27,
   "id": "60996684",
   "metadata": {},
   "outputs": [
    {
     "data": {
      "text/plain": [
       "list"
      ]
     },
     "execution_count": 27,
     "metadata": {},
     "output_type": "execute_result"
    }
   ],
   "source": [
    "type(users_tuple)"
   ]
  },
  {
   "cell_type": "code",
   "execution_count": 28,
   "id": "bd52b48c",
   "metadata": {},
   "outputs": [
    {
     "data": {
      "text/plain": [
       "tuple"
      ]
     },
     "execution_count": 28,
     "metadata": {},
     "output_type": "execute_result"
    }
   ],
   "source": [
    "type(users_tuple[0])"
   ]
  },
  {
   "cell_type": "code",
   "execution_count": 29,
   "id": "87534c5a",
   "metadata": {},
   "outputs": [],
   "source": [
    "users_rows = [Row(*user) for user in users_tuple]"
   ]
  },
  {
   "cell_type": "code",
   "execution_count": 30,
   "id": "ebd0bb96",
   "metadata": {},
   "outputs": [
    {
     "data": {
      "text/plain": [
       "[<Row(1, 'Scott')>, <Row(2, 'Donald')>, <Row(3, 'Mickey')>, <Row(4, 'Elvis')>]"
      ]
     },
     "execution_count": 30,
     "metadata": {},
     "output_type": "execute_result"
    }
   ],
   "source": [
    "users_rows"
   ]
  },
  {
   "cell_type": "code",
   "execution_count": 31,
   "id": "f4d9b591",
   "metadata": {},
   "outputs": [],
   "source": [
    "df = spark.createDataFrame(users_rows, 'user_id int, user_first_name string')"
   ]
  },
  {
   "cell_type": "code",
   "execution_count": 32,
   "id": "e59fae45",
   "metadata": {},
   "outputs": [
    {
     "name": "stdout",
     "output_type": "stream",
     "text": [
      "+-------+---------------+\n",
      "|user_id|user_first_name|\n",
      "+-------+---------------+\n",
      "|      1|          Scott|\n",
      "|      2|         Donald|\n",
      "|      3|         Mickey|\n",
      "|      4|          Elvis|\n",
      "+-------+---------------+\n",
      "\n"
     ]
    }
   ],
   "source": [
    "df.show()"
   ]
  },
  {
   "cell_type": "code",
   "execution_count": 33,
   "id": "323c862f",
   "metadata": {},
   "outputs": [
    {
     "data": {
      "text/plain": [
       "[Row(user_id=1, user_first_name='Scott'),\n",
       " Row(user_id=2, user_first_name='Donald'),\n",
       " Row(user_id=3, user_first_name='Mickey'),\n",
       " Row(user_id=4, user_first_name='Elvis')]"
      ]
     },
     "execution_count": 33,
     "metadata": {},
     "output_type": "execute_result"
    }
   ],
   "source": [
    "df.collect()"
   ]
  },
  {
   "cell_type": "code",
   "execution_count": 34,
   "id": "fe3b8dd6",
   "metadata": {},
   "outputs": [],
   "source": [
    "users_dict = [\n",
    "    {\"user_id\": 1, \"user_first_name\": 'Scott'}, \n",
    "    {\"user_id\": 2, \"user_first_name\": 'Donald'},\n",
    "    {\"user_id\": 3, \"user_first_name\": 'Mickey'},\n",
    "    {\"user_id\": 4, \"user_first_name\": 'Elvis'}\n",
    "]"
   ]
  },
  {
   "cell_type": "code",
   "execution_count": 35,
   "id": "14de80ec",
   "metadata": {},
   "outputs": [
    {
     "data": {
      "text/plain": [
       "list"
      ]
     },
     "execution_count": 35,
     "metadata": {},
     "output_type": "execute_result"
    }
   ],
   "source": [
    "type(users_dict)"
   ]
  },
  {
   "cell_type": "code",
   "execution_count": 36,
   "id": "f74d57de",
   "metadata": {},
   "outputs": [
    {
     "data": {
      "text/plain": [
       "dict"
      ]
     },
     "execution_count": 36,
     "metadata": {},
     "output_type": "execute_result"
    }
   ],
   "source": [
    "type(users_dict[0])"
   ]
  },
  {
   "cell_type": "code",
   "execution_count": 40,
   "id": "34e1d52a",
   "metadata": {},
   "outputs": [
    {
     "data": {
      "text/plain": [
       "{'user_id': 1, 'user_first_name': 'Scott'}"
      ]
     },
     "execution_count": 40,
     "metadata": {},
     "output_type": "execute_result"
    }
   ],
   "source": [
    "users_dict[0]"
   ]
  },
  {
   "cell_type": "code",
   "execution_count": 41,
   "id": "3134b1cb",
   "metadata": {},
   "outputs": [],
   "source": [
    "users_rows = [Row(*user.values()) for user in users_dict]"
   ]
  },
  {
   "cell_type": "code",
   "execution_count": 46,
   "id": "d5793113",
   "metadata": {},
   "outputs": [],
   "source": [
    "#users_rows = [Row(**user) for user in users_dict]"
   ]
  },
  {
   "cell_type": "code",
   "execution_count": 42,
   "id": "9db131ac",
   "metadata": {},
   "outputs": [
    {
     "data": {
      "text/plain": [
       "[<Row(1, 'Scott')>, <Row(2, 'Donald')>, <Row(3, 'Mickey')>, <Row(4, 'Elvis')>]"
      ]
     },
     "execution_count": 42,
     "metadata": {},
     "output_type": "execute_result"
    }
   ],
   "source": [
    "users_rows"
   ]
  },
  {
   "cell_type": "code",
   "execution_count": 43,
   "id": "bf190ba3",
   "metadata": {},
   "outputs": [],
   "source": [
    "df = spark.createDataFrame(users_rows, 'user_id int, user_first_name string')"
   ]
  },
  {
   "cell_type": "code",
   "execution_count": 44,
   "id": "fd65f1b6",
   "metadata": {},
   "outputs": [
    {
     "name": "stdout",
     "output_type": "stream",
     "text": [
      "+-------+---------------+\n",
      "|user_id|user_first_name|\n",
      "+-------+---------------+\n",
      "|      1|          Scott|\n",
      "|      2|         Donald|\n",
      "|      3|         Mickey|\n",
      "|      4|          Elvis|\n",
      "+-------+---------------+\n",
      "\n"
     ]
    }
   ],
   "source": [
    "df.show()"
   ]
  },
  {
   "cell_type": "code",
   "execution_count": 45,
   "id": "b916d0ea",
   "metadata": {},
   "outputs": [
    {
     "data": {
      "text/plain": [
       "[Row(user_id=1, user_first_name='Scott'),\n",
       " Row(user_id=2, user_first_name='Donald'),\n",
       " Row(user_id=3, user_first_name='Mickey'),\n",
       " Row(user_id=4, user_first_name='Elvis')]"
      ]
     },
     "execution_count": 45,
     "metadata": {},
     "output_type": "execute_result"
    }
   ],
   "source": [
    "df.collect()"
   ]
  },
  {
   "cell_type": "code",
   "execution_count": 17,
   "id": "1a433dcd",
   "metadata": {},
   "outputs": [],
   "source": [
    "users_list = [[1, 'Scott'], [2, 'Donald'], [3, 'Mickey'], [4, 'Elvis']]"
   ]
  },
  {
   "cell_type": "code",
   "execution_count": 18,
   "id": "7e8e39ee",
   "metadata": {},
   "outputs": [
    {
     "data": {
      "text/plain": [
       "list"
      ]
     },
     "execution_count": 18,
     "metadata": {},
     "output_type": "execute_result"
    }
   ],
   "source": [
    "type(users_list)"
   ]
  },
  {
   "cell_type": "code",
   "execution_count": 19,
   "id": "ece049a5",
   "metadata": {},
   "outputs": [
    {
     "data": {
      "text/plain": [
       "list"
      ]
     },
     "execution_count": 19,
     "metadata": {},
     "output_type": "execute_result"
    }
   ],
   "source": [
    "type(users_list[0])"
   ]
  },
  {
   "cell_type": "code",
   "execution_count": 20,
   "id": "bdd88453",
   "metadata": {},
   "outputs": [],
   "source": [
    "users_rows = [Row(*user) for user in users_list]"
   ]
  },
  {
   "cell_type": "code",
   "execution_count": 21,
   "id": "13c61699",
   "metadata": {},
   "outputs": [
    {
     "data": {
      "text/plain": [
       "[<Row(1, 'Scott')>, <Row(2, 'Donald')>, <Row(3, 'Mickey')>, <Row(4, 'Elvis')>]"
      ]
     },
     "execution_count": 21,
     "metadata": {},
     "output_type": "execute_result"
    }
   ],
   "source": [
    "users_rows"
   ]
  },
  {
   "cell_type": "code",
   "execution_count": 22,
   "id": "5c9db60d",
   "metadata": {},
   "outputs": [],
   "source": [
    "df = spark.createDataFrame(users_rows, 'user_id int, user_first_name string')"
   ]
  },
  {
   "cell_type": "code",
   "execution_count": 23,
   "id": "5d2f85e6",
   "metadata": {},
   "outputs": [
    {
     "name": "stderr",
     "output_type": "stream",
     "text": [
      "                                                                                \r"
     ]
    },
    {
     "name": "stdout",
     "output_type": "stream",
     "text": [
      "+-------+---------------+\n",
      "|user_id|user_first_name|\n",
      "+-------+---------------+\n",
      "|      1|          Scott|\n",
      "|      2|         Donald|\n",
      "|      3|         Mickey|\n",
      "|      4|          Elvis|\n",
      "+-------+---------------+\n",
      "\n"
     ]
    }
   ],
   "source": [
    "df.show()"
   ]
  },
  {
   "cell_type": "code",
   "execution_count": 24,
   "id": "36c5b965",
   "metadata": {},
   "outputs": [
    {
     "data": {
      "text/plain": [
       "[Row(user_id=1, user_first_name='Scott'),\n",
       " Row(user_id=2, user_first_name='Donald'),\n",
       " Row(user_id=3, user_first_name='Mickey'),\n",
       " Row(user_id=4, user_first_name='Elvis')]"
      ]
     },
     "execution_count": 24,
     "metadata": {},
     "output_type": "execute_result"
    }
   ],
   "source": [
    "df.collect()"
   ]
  },
  {
   "cell_type": "code",
   "execution_count": null,
   "id": "70e1fa35",
   "metadata": {},
   "outputs": [],
   "source": []
  }
 ],
 "metadata": {
  "kernelspec": {
   "display_name": "Python 3 (ipykernel)",
   "language": "python",
   "name": "python3"
  },
  "language_info": {
   "codemirror_mode": {
    "name": "ipython",
    "version": 3
   },
   "file_extension": ".py",
   "mimetype": "text/x-python",
   "name": "python",
   "nbconvert_exporter": "python",
   "pygments_lexer": "ipython3",
   "version": "3.9.13"
  }
 },
 "nbformat": 4,
 "nbformat_minor": 5
}
