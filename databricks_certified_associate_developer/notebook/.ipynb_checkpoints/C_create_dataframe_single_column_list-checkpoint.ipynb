{
 "cells": [
  {
   "cell_type": "code",
   "execution_count": 4,
   "id": "97fd216e",
   "metadata": {},
   "outputs": [
    {
     "name": "stdout",
     "output_type": "stream",
     "text": [
      "23/02/21 19:41:33 WARN Utils: Your hostname, JosePC resolves to a loopback address: 127.0.1.1; using 192.168.15.30 instead (on interface wlo1)\n",
      "23/02/21 19:41:33 WARN Utils: Set SPARK_LOCAL_IP if you need to bind to another address\n"
     ]
    },
    {
     "name": "stderr",
     "output_type": "stream",
     "text": [
      "Setting default log level to \"WARN\".\n",
      "To adjust logging level use sc.setLogLevel(newLevel). For SparkR, use setLogLevel(newLevel).\n"
     ]
    },
    {
     "name": "stdout",
     "output_type": "stream",
     "text": [
      "23/02/21 19:41:33 WARN NativeCodeLoader: Unable to load native-hadoop library for your platform... using builtin-java classes where applicable\n",
      "23/02/21 19:41:34 WARN Utils: Service 'SparkUI' could not bind on port 4040. Attempting port 4041.\n",
      "23/02/21 19:41:34 WARN Utils: Service 'SparkUI' could not bind on port 4041. Attempting port 4042.\n",
      "23/02/21 19:41:34 WARN Utils: Service 'SparkUI' could not bind on port 4042. Attempting port 4043.\n",
      "23/02/21 19:41:34 WARN Utils: Service 'SparkUI' could not bind on port 4043. Attempting port 4044.\n"
     ]
    }
   ],
   "source": [
    "%run \"A_pyspark_sparksession.ipynb\""
   ]
  },
  {
   "cell_type": "code",
   "execution_count": 11,
   "id": "ceaab65a",
   "metadata": {},
   "outputs": [
    {
     "data": {
      "text/plain": [
       "DataFrame[value: int]"
      ]
     },
     "execution_count": 11,
     "metadata": {},
     "output_type": "execute_result"
    }
   ],
   "source": [
    "age_list = [21, 23, 18, 41, 32]\n",
    "spark.createDataFrame(age_list, 'int')"
   ]
  },
  {
   "cell_type": "code",
   "execution_count": 12,
   "id": "4f04f84e",
   "metadata": {},
   "outputs": [
    {
     "data": {
      "text/plain": [
       "DataFrame[value: int]"
      ]
     },
     "execution_count": 12,
     "metadata": {},
     "output_type": "execute_result"
    }
   ],
   "source": [
    "age_list = [21, 23, 18, 41, 32]\n",
    "from pyspark.sql.types import IntegerType\n",
    "spark.createDataFrame(age_list, IntegerType())"
   ]
  },
  {
   "cell_type": "code",
   "execution_count": 13,
   "id": "df4f2f8d",
   "metadata": {},
   "outputs": [
    {
     "data": {
      "text/plain": [
       "DataFrame[value: string]"
      ]
     },
     "execution_count": 13,
     "metadata": {},
     "output_type": "execute_result"
    }
   ],
   "source": [
    "name_list = ['Scott', 'Donald', 'Mickey']\n",
    "spark.createDataFrame(name_list, 'string')"
   ]
  },
  {
   "cell_type": "code",
   "execution_count": 14,
   "id": "14f4e076",
   "metadata": {},
   "outputs": [
    {
     "data": {
      "text/plain": [
       "DataFrame[value: string]"
      ]
     },
     "execution_count": 14,
     "metadata": {},
     "output_type": "execute_result"
    }
   ],
   "source": [
    "name_list = ['Scott', 'Donald', 'Mickey']\n",
    "from pyspark.sql.types import StringType\n",
    "spark.createDataFrame(name_list, StringType())"
   ]
  }
 ],
 "metadata": {
  "kernelspec": {
   "display_name": "Python 3 (ipykernel)",
   "language": "python",
   "name": "python3"
  },
  "language_info": {
   "codemirror_mode": {
    "name": "ipython",
    "version": 3
   },
   "file_extension": ".py",
   "mimetype": "text/x-python",
   "name": "python",
   "nbconvert_exporter": "python",
   "pygments_lexer": "ipython3",
   "version": "3.9.13"
  }
 },
 "nbformat": 4,
 "nbformat_minor": 5
}
