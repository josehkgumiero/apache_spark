{
 "cells": [
  {
   "cell_type": "code",
   "execution_count": 1,
   "id": "97fd216e",
   "metadata": {},
   "outputs": [
    {
     "name": "stdout",
     "output_type": "stream",
     "text": [
      "23/02/21 19:52:19 WARN Utils: Your hostname, JosePC resolves to a loopback address: 127.0.1.1; using 192.168.15.30 instead (on interface wlo1)\n",
      "23/02/21 19:52:19 WARN Utils: Set SPARK_LOCAL_IP if you need to bind to another address\n"
     ]
    },
    {
     "name": "stderr",
     "output_type": "stream",
     "text": [
      "Setting default log level to \"WARN\".\n",
      "To adjust logging level use sc.setLogLevel(newLevel). For SparkR, use setLogLevel(newLevel).\n"
     ]
    },
    {
     "name": "stdout",
     "output_type": "stream",
     "text": [
      "23/02/21 19:52:20 WARN NativeCodeLoader: Unable to load native-hadoop library for your platform... using builtin-java classes where applicable\n",
      "23/02/21 19:52:22 WARN Utils: Service 'SparkUI' could not bind on port 4040. Attempting port 4041.\n",
      "23/02/21 19:52:22 WARN Utils: Service 'SparkUI' could not bind on port 4041. Attempting port 4042.\n",
      "23/02/21 19:52:22 WARN Utils: Service 'SparkUI' could not bind on port 4042. Attempting port 4043.\n",
      "23/02/21 19:52:22 WARN Utils: Service 'SparkUI' could not bind on port 4043. Attempting port 4044.\n",
      "23/02/21 19:52:22 WARN Utils: Service 'SparkUI' could not bind on port 4044. Attempting port 4045.\n",
      "23/02/21 19:52:22 WARN Utils: Service 'SparkUI' could not bind on port 4045. Attempting port 4046.\n",
      "23/02/21 19:52:22 WARN Utils: Service 'SparkUI' could not bind on port 4046. Attempting port 4047.\n"
     ]
    }
   ],
   "source": [
    "%run \"A_pyspark_sparksession.ipynb\""
   ]
  },
  {
   "cell_type": "code",
   "execution_count": 6,
   "id": "6a66a560",
   "metadata": {},
   "outputs": [],
   "source": [
    "from pyspark.sql import Row"
   ]
  },
  {
   "cell_type": "code",
   "execution_count": 7,
   "id": "4c140fe2",
   "metadata": {},
   "outputs": [],
   "source": [
    "users_list = [[1, 'Scott'], [2, 'Donald'], [3, 'Mickey'], [4, 'Elvis']]"
   ]
  },
  {
   "cell_type": "code",
   "execution_count": 8,
   "id": "ef2f1ed9",
   "metadata": {},
   "outputs": [],
   "source": [
    "users_rows = [Row(*user) for user in users_list]"
   ]
  },
  {
   "cell_type": "code",
   "execution_count": 9,
   "id": "54671bb3",
   "metadata": {},
   "outputs": [],
   "source": [
    "df = spark.createDataFrame(users_rows, 'user_id int, user_first_name string')"
   ]
  },
  {
   "cell_type": "code",
   "execution_count": 10,
   "id": "b718ca5c",
   "metadata": {},
   "outputs": [
    {
     "name": "stderr",
     "output_type": "stream",
     "text": [
      "\r",
      "[Stage 0:>                                                          (0 + 1) / 1]\r"
     ]
    },
    {
     "name": "stdout",
     "output_type": "stream",
     "text": [
      "+-------+---------------+\n",
      "|user_id|user_first_name|\n",
      "+-------+---------------+\n",
      "|      1|          Scott|\n",
      "|      2|         Donald|\n",
      "|      3|         Mickey|\n",
      "|      4|          Elvis|\n",
      "+-------+---------------+\n",
      "\n"
     ]
    },
    {
     "name": "stderr",
     "output_type": "stream",
     "text": [
      "\r",
      "                                                                                \r"
     ]
    }
   ],
   "source": [
    "df.show()"
   ]
  },
  {
   "cell_type": "code",
   "execution_count": 16,
   "id": "2a2519ec",
   "metadata": {},
   "outputs": [],
   "source": [
    "users_tuple = [(1, 'Scott'), (2, 'Donald'), (3, 'Mickey'), (4, 'Elvis')]"
   ]
  },
  {
   "cell_type": "code",
   "execution_count": 17,
   "id": "1dd53735",
   "metadata": {},
   "outputs": [],
   "source": [
    "users_rows = [Row(*user) for user in users_tuple]"
   ]
  },
  {
   "cell_type": "code",
   "execution_count": 18,
   "id": "dfd139db",
   "metadata": {},
   "outputs": [],
   "source": [
    "df = spark.createDataFrame(users_rows, 'user_id int, user_first_name string')"
   ]
  },
  {
   "cell_type": "code",
   "execution_count": 19,
   "id": "42c363d4",
   "metadata": {},
   "outputs": [
    {
     "name": "stdout",
     "output_type": "stream",
     "text": [
      "+-------+---------------+\n",
      "|user_id|user_first_name|\n",
      "+-------+---------------+\n",
      "|      1|          Scott|\n",
      "|      2|         Donald|\n",
      "|      3|         Mickey|\n",
      "|      4|          Elvis|\n",
      "+-------+---------------+\n",
      "\n"
     ]
    }
   ],
   "source": [
    "df.show()"
   ]
  },
  {
   "cell_type": "code",
   "execution_count": 21,
   "id": "fe243bba",
   "metadata": {},
   "outputs": [
    {
     "data": {
      "text/plain": [
       "[Row(user_id=1, user_first_name='Scott'),\n",
       " Row(user_id=2, user_first_name='Donald'),\n",
       " Row(user_id=3, user_first_name='Mickey'),\n",
       " Row(user_id=4, user_first_name='Elvis')]"
      ]
     },
     "execution_count": 21,
     "metadata": {},
     "output_type": "execute_result"
    }
   ],
   "source": [
    "df.collect()"
   ]
  },
  {
   "cell_type": "code",
   "execution_count": 3,
   "id": "85b078d4",
   "metadata": {},
   "outputs": [],
   "source": [
    "users_dict = [\n",
    "    {\"user_id\": 1, \"user_first_name\": 'Scott'}, \n",
    "    {\"user_id\": 2, \"user_first_name\": 'Donald'},\n",
    "    {\"user_id\": 3, \"user_first_name\": 'Mickey'},\n",
    "    {\"user_id\": 4, \"user_first_name\": 'Elvis'}\n",
    "]"
   ]
  },
  {
   "cell_type": "code",
   "execution_count": 11,
   "id": "261b1b2a",
   "metadata": {},
   "outputs": [],
   "source": [
    "users_rows = [Row(*user.values()) for user in users_dict]"
   ]
  },
  {
   "cell_type": "code",
   "execution_count": 12,
   "id": "ef473d8b",
   "metadata": {},
   "outputs": [],
   "source": [
    "df = spark.createDataFrame(users_rows, 'user_id int, user_first_name string')"
   ]
  },
  {
   "cell_type": "code",
   "execution_count": 13,
   "id": "02ffad17",
   "metadata": {},
   "outputs": [
    {
     "name": "stdout",
     "output_type": "stream",
     "text": [
      "+-------+---------------+\n",
      "|user_id|user_first_name|\n",
      "+-------+---------------+\n",
      "|      1|          Scott|\n",
      "|      2|         Donald|\n",
      "|      3|         Mickey|\n",
      "|      4|          Elvis|\n",
      "+-------+---------------+\n",
      "\n"
     ]
    }
   ],
   "source": [
    "df.show()"
   ]
  },
  {
   "cell_type": "code",
   "execution_count": 20,
   "id": "b23cd640",
   "metadata": {},
   "outputs": [
    {
     "data": {
      "text/plain": [
       "[Row(user_id=1, user_first_name='Scott'),\n",
       " Row(user_id=2, user_first_name='Donald'),\n",
       " Row(user_id=3, user_first_name='Mickey'),\n",
       " Row(user_id=4, user_first_name='Elvis')]"
      ]
     },
     "execution_count": 20,
     "metadata": {},
     "output_type": "execute_result"
    }
   ],
   "source": [
    "df.collect()"
   ]
  },
  {
   "cell_type": "code",
   "execution_count": null,
   "id": "f1f82042",
   "metadata": {},
   "outputs": [],
   "source": []
  }
 ],
 "metadata": {
  "kernelspec": {
   "display_name": "Python 3 (ipykernel)",
   "language": "python",
   "name": "python3"
  },
  "language_info": {
   "codemirror_mode": {
    "name": "ipython",
    "version": 3
   },
   "file_extension": ".py",
   "mimetype": "text/x-python",
   "name": "python",
   "nbconvert_exporter": "python",
   "pygments_lexer": "ipython3",
   "version": "3.9.13"
  }
 },
 "nbformat": 4,
 "nbformat_minor": 5
}
