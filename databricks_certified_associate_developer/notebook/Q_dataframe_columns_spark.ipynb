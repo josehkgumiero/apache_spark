{
 "cells": [
  {
   "cell_type": "code",
   "execution_count": 2,
   "id": "97fd216e",
   "metadata": {},
   "outputs": [
    {
     "name": "stdout",
     "output_type": "stream",
     "text": [
      "23/02/21 21:17:19 WARN Utils: Your hostname, JosePC resolves to a loopback address: 127.0.1.1; using 192.168.15.30 instead (on interface wlo1)\n",
      "23/02/21 21:17:19 WARN Utils: Set SPARK_LOCAL_IP if you need to bind to another address\n"
     ]
    },
    {
     "name": "stderr",
     "output_type": "stream",
     "text": [
      "Setting default log level to \"WARN\".\n",
      "To adjust logging level use sc.setLogLevel(newLevel). For SparkR, use setLogLevel(newLevel).\n"
     ]
    },
    {
     "name": "stdout",
     "output_type": "stream",
     "text": [
      "23/02/21 21:17:19 WARN NativeCodeLoader: Unable to load native-hadoop library for your platform... using builtin-java classes where applicable\n",
      "23/02/21 21:17:20 WARN Utils: Service 'SparkUI' could not bind on port 4040. Attempting port 4041.\n",
      "23/02/21 21:17:20 WARN Utils: Service 'SparkUI' could not bind on port 4041. Attempting port 4042.\n",
      "23/02/21 21:17:20 WARN Utils: Service 'SparkUI' could not bind on port 4042. Attempting port 4043.\n",
      "23/02/21 21:17:20 WARN Utils: Service 'SparkUI' could not bind on port 4043. Attempting port 4044.\n",
      "23/02/21 21:17:20 WARN Utils: Service 'SparkUI' could not bind on port 4044. Attempting port 4045.\n",
      "23/02/21 21:17:20 WARN Utils: Service 'SparkUI' could not bind on port 4045. Attempting port 4046.\n",
      "23/02/21 21:17:20 WARN Utils: Service 'SparkUI' could not bind on port 4046. Attempting port 4047.\n"
     ]
    }
   ],
   "source": [
    "%run \"A_pyspark_sparksession.ipynb\""
   ]
  },
  {
   "cell_type": "code",
   "execution_count": 3,
   "id": "331bb4ad",
   "metadata": {},
   "outputs": [],
   "source": [
    "%run \"I_export_data_users.ipynb\""
   ]
  },
  {
   "cell_type": "code",
   "execution_count": 4,
   "id": "2fa09141",
   "metadata": {},
   "outputs": [],
   "source": [
    "from pyspark.sql import Row"
   ]
  },
  {
   "cell_type": "code",
   "execution_count": 5,
   "id": "a16dbd0e",
   "metadata": {},
   "outputs": [
    {
     "data": {
      "text/plain": [
       "[{'id': 1,\n",
       "  'first_name': 'Corrie',\n",
       "  'last_name': 'Van den Oord',\n",
       "  'email': 'cvandenoord@etsy.com',\n",
       "  'phone_numbers': Row(mobile='+1 234 567 8901', home='+1 234 567 8911'),\n",
       "  'is_costumer': True,\n",
       "  'amount_paid': 1000.55,\n",
       "  'customer_from': datetime.date(2021, 1, 15),\n",
       "  'last_updated_ts': datetime.datetime(2021, 2, 10, 1, 15)},\n",
       " {'id': 2,\n",
       "  'first_name': 'Nikolaus',\n",
       "  'last_name': 'Brewitt',\n",
       "  'email': 'nbrewittl@dailyail.co.uk',\n",
       "  'phone_numbers': Row(mobile='+1 234 567 8923', home='+1 234 567 8934'),\n",
       "  'is_costumer': True,\n",
       "  'amount_paid': 900.0,\n",
       "  'customer_from': datetime.date(2021, 2, 14),\n",
       "  'last_updated_ts': datetime.datetime(2021, 2, 18, 3, 33)},\n",
       " {'id': 3,\n",
       "  'first_name': 'Orelie',\n",
       "  'last_name': 'Penney',\n",
       "  'email': 'openney2@vistaprint.com',\n",
       "  'phone_numbers': Row(mobile='+1 714 512 9752', home='+1 714 512 6601'),\n",
       "  'is_costumer': True,\n",
       "  'amount_paid': 850.55,\n",
       "  'customer_from': datetime.date(2021, 1, 21),\n",
       "  'last_updated_ts': datetime.datetime(2021, 3, 15, 15, 16, 55)},\n",
       " {'id': 4,\n",
       "  'first_name': 'Ashby',\n",
       "  'last_name': 'Maddocks',\n",
       "  'email': 'amaddocks3@home.pl',\n",
       "  'phone_numbers': Row(mobile=None, home=None),\n",
       "  'is_costumer': False,\n",
       "  'amount_paid': None,\n",
       "  'customer_from': None,\n",
       "  'last_updated_ts': datetime.datetime(2021, 4, 10, 17, 45, 30)},\n",
       " {'id': 5,\n",
       "  'first_name': 'Kurt',\n",
       "  'last_name': 'Rome',\n",
       "  'email': 'krome4@shutterfly.com',\n",
       "  'phone_numbers': Row(mobile='+1 817 934 7142', home=None),\n",
       "  'is_costumer': False,\n",
       "  'amount_paid': None,\n",
       "  'customer_from': None,\n",
       "  'last_updated_ts': datetime.datetime(2021, 4, 2, 0, 55, 18)}]"
      ]
     },
     "execution_count": 5,
     "metadata": {},
     "output_type": "execute_result"
    }
   ],
   "source": [
    "users_type_spark"
   ]
  },
  {
   "cell_type": "code",
   "execution_count": 9,
   "id": "59dc6541",
   "metadata": {},
   "outputs": [],
   "source": [
    "users_df = spark.createDataFrame([Row(**user) for user in users_type_spark])"
   ]
  },
  {
   "cell_type": "code",
   "execution_count": 10,
   "id": "55f5580e",
   "metadata": {},
   "outputs": [
    {
     "name": "stderr",
     "output_type": "stream",
     "text": [
      "\r",
      "[Stage 0:>                                                          (0 + 1) / 1]\r"
     ]
    },
    {
     "name": "stdout",
     "output_type": "stream",
     "text": [
      "+---+----------+------------+--------------------+--------------------+-----------+-----------+-------------+-------------------+\n",
      "| id|first_name|   last_name|               email|       phone_numbers|is_costumer|amount_paid|customer_from|    last_updated_ts|\n",
      "+---+----------+------------+--------------------+--------------------+-----------+-----------+-------------+-------------------+\n",
      "|  1|    Corrie|Van den Oord|cvandenoord@etsy.com|{+1 234 567 8901,...|       true|    1000.55|   2021-01-15|2021-02-10 01:15:00|\n",
      "|  2|  Nikolaus|     Brewitt|nbrewittl@dailyai...|{+1 234 567 8923,...|       true|      900.0|   2021-02-14|2021-02-18 03:33:00|\n",
      "|  3|    Orelie|      Penney|openney2@vistapri...|{+1 714 512 9752,...|       true|     850.55|   2021-01-21|2021-03-15 15:16:55|\n",
      "|  4|     Ashby|    Maddocks|  amaddocks3@home.pl|        {null, null}|      false|       null|         null|2021-04-10 17:45:30|\n",
      "|  5|      Kurt|        Rome|krome4@shutterfly...|{+1 817 934 7142,...|      false|       null|         null|2021-04-02 00:55:18|\n",
      "+---+----------+------------+--------------------+--------------------+-----------+-----------+-------------+-------------------+\n",
      "\n"
     ]
    },
    {
     "name": "stderr",
     "output_type": "stream",
     "text": [
      "\r",
      "                                                                                \r"
     ]
    }
   ],
   "source": [
    "users_df.show()"
   ]
  },
  {
   "cell_type": "code",
   "execution_count": 11,
   "id": "c6c88d8c",
   "metadata": {},
   "outputs": [
    {
     "name": "stdout",
     "output_type": "stream",
     "text": [
      "+---+----------------------------------+\n",
      "|id |phone_numbers                     |\n",
      "+---+----------------------------------+\n",
      "|1  |{+1 234 567 8901, +1 234 567 8911}|\n",
      "|2  |{+1 234 567 8923, +1 234 567 8934}|\n",
      "|3  |{+1 714 512 9752, +1 714 512 6601}|\n",
      "|4  |{null, null}                      |\n",
      "|5  |{+1 817 934 7142, null}           |\n",
      "+---+----------------------------------+\n",
      "\n"
     ]
    }
   ],
   "source": [
    "users_df.select('id','phone_numbers').show(truncate=False)"
   ]
  },
  {
   "cell_type": "code",
   "execution_count": 12,
   "id": "5edca958",
   "metadata": {},
   "outputs": [
    {
     "data": {
      "text/plain": [
       "['id',\n",
       " 'first_name',\n",
       " 'last_name',\n",
       " 'email',\n",
       " 'phone_numbers',\n",
       " 'is_costumer',\n",
       " 'amount_paid',\n",
       " 'customer_from',\n",
       " 'last_updated_ts']"
      ]
     },
     "execution_count": 12,
     "metadata": {},
     "output_type": "execute_result"
    }
   ],
   "source": [
    "users_df.columns"
   ]
  },
  {
   "cell_type": "code",
   "execution_count": 13,
   "id": "81226215",
   "metadata": {},
   "outputs": [
    {
     "data": {
      "text/plain": [
       "[('id', 'bigint'),\n",
       " ('first_name', 'string'),\n",
       " ('last_name', 'string'),\n",
       " ('email', 'string'),\n",
       " ('phone_numbers', 'struct<mobile:string,home:string>'),\n",
       " ('is_costumer', 'boolean'),\n",
       " ('amount_paid', 'double'),\n",
       " ('customer_from', 'date'),\n",
       " ('last_updated_ts', 'timestamp')]"
      ]
     },
     "execution_count": 13,
     "metadata": {},
     "output_type": "execute_result"
    }
   ],
   "source": [
    "users_df.dtypes"
   ]
  },
  {
   "cell_type": "code",
   "execution_count": 14,
   "id": "29876f21",
   "metadata": {},
   "outputs": [
    {
     "name": "stdout",
     "output_type": "stream",
     "text": [
      "+---+---------------+---------------+\n",
      "| id|         mobile|           home|\n",
      "+---+---------------+---------------+\n",
      "|  1|+1 234 567 8901|+1 234 567 8911|\n",
      "|  2|+1 234 567 8923|+1 234 567 8934|\n",
      "|  3|+1 714 512 9752|+1 714 512 6601|\n",
      "|  4|           null|           null|\n",
      "|  5|+1 817 934 7142|           null|\n",
      "+---+---------------+---------------+\n",
      "\n"
     ]
    }
   ],
   "source": [
    "users_df. \\\n",
    "    select('id', 'phone_numbers.mobile', 'phone_numbers.home'). \\\n",
    "    show()"
   ]
  },
  {
   "cell_type": "code",
   "execution_count": 15,
   "id": "657dd1e0",
   "metadata": {},
   "outputs": [],
   "source": [
    "from pyspark.sql.functions import col"
   ]
  },
  {
   "cell_type": "code",
   "execution_count": 16,
   "id": "b6b76d3b",
   "metadata": {},
   "outputs": [
    {
     "name": "stdout",
     "output_type": "stream",
     "text": [
      "+---+--------------------+------------------+\n",
      "| id|phone_numbers.mobile|phone_numbers.home|\n",
      "+---+--------------------+------------------+\n",
      "|  1|     +1 234 567 8901|   +1 234 567 8911|\n",
      "|  2|     +1 234 567 8923|   +1 234 567 8934|\n",
      "|  3|     +1 714 512 9752|   +1 714 512 6601|\n",
      "|  4|                null|              null|\n",
      "|  5|     +1 817 934 7142|              null|\n",
      "+---+--------------------+------------------+\n",
      "\n"
     ]
    }
   ],
   "source": [
    "users_df. \\\n",
    "    select('id', col('phone_numbers')['mobile'], col('phone_numbers')['home']). \\\n",
    "    show()"
   ]
  },
  {
   "cell_type": "code",
   "execution_count": null,
   "id": "f9c8c929",
   "metadata": {},
   "outputs": [],
   "source": []
  }
 ],
 "metadata": {
  "kernelspec": {
   "display_name": "Python 3 (ipykernel)",
   "language": "python",
   "name": "python3"
  },
  "language_info": {
   "codemirror_mode": {
    "name": "ipython",
    "version": 3
   },
   "file_extension": ".py",
   "mimetype": "text/x-python",
   "name": "python",
   "nbconvert_exporter": "python",
   "pygments_lexer": "ipython3",
   "version": "3.9.13"
  }
 },
 "nbformat": 4,
 "nbformat_minor": 5
}
